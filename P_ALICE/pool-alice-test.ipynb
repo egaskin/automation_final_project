{
 "cells": [
  {
   "cell_type": "code",
   "execution_count": 2,
   "metadata": {},
   "outputs": [],
   "source": [
    "import pool_alice_code\n",
    "import numpy as np\n",
    "from typing import List, Tuple"
   ]
  },
  {
   "cell_type": "markdown",
   "metadata": {},
   "source": [
    "## exploring how to calculate U_hat efficieintly"
   ]
  },
  {
   "cell_type": "code",
   "execution_count": 3,
   "metadata": {},
   "outputs": [
    {
     "data": {
      "text/plain": [
       "array([[-0.21114576,  1.2127227 ,  0.14841182],\n",
       "       [ 1.42749795,  1.18437981,  0.62335293],\n",
       "       [ 0.43484084,  0.76926533,  1.01784891],\n",
       "       [ 1.25864123,  0.32134642, -0.65060902],\n",
       "       [-0.19197823,  0.2527082 , -0.25559072]])"
      ]
     },
     "execution_count": 3,
     "metadata": {},
     "output_type": "execute_result"
    }
   ],
   "source": [
    "dummy_x_unlabeled = np.random.standard_normal(size=(5,3))\n",
    "dummy_x_unlabeled"
   ]
  },
  {
   "cell_type": "code",
   "execution_count": 4,
   "metadata": {},
   "outputs": [],
   "source": [
    "dummy_basis_funcs = [np.square,np.sin,np.exp]\n",
    "ϕ_mtx: np.ndarray = np.empty(shape=dummy_x_unlabeled.shape)\n",
    "t = len(dummy_x_unlabeled[0])\n",
    "\n",
    "for l in range(0,t):\n",
    "    ϕ_mtx[:,l] = dummy_basis_funcs[l](dummy_x_unlabeled[:,l])"
   ]
  },
  {
   "cell_type": "code",
   "execution_count": 5,
   "metadata": {},
   "outputs": [
    {
     "data": {
      "text/plain": [
       "array([[0.04458253, 0.9365737 , 1.1599905 ],\n",
       "       [2.03775038, 0.92626552, 1.86517135],\n",
       "       [0.18908655, 0.69560762, 2.76723579],\n",
       "       [1.58417775, 0.31584435, 0.52172794],\n",
       "       [0.03685564, 0.25002706, 0.77445888]])"
      ]
     },
     "execution_count": 5,
     "metadata": {},
     "output_type": "execute_result"
    }
   ],
   "source": [
    "ϕ_mtx"
   ]
  },
  {
   "cell_type": "code",
   "execution_count": 6,
   "metadata": {},
   "outputs": [
    {
     "name": "stdout",
     "output_type": "stream",
     "text": [
      "\n",
      "dummy_basis_funcs[0](dummy_x_unlabeled[:,0]) = [0.04458253 2.03775038 0.18908655 1.58417775 0.03685564]\n",
      "dummy_basis_funcs[1](dummy_x_unlabeled[:,1]) = [0.9365737  0.92626552 0.69560762 0.31584435 0.25002706]\n",
      "dummy_basis_funcs[2](dummy_x_unlabeled[:,2]) = [1.1599905  1.86517135 2.76723579 0.52172794 0.77445888]\n",
      "\n"
     ]
    }
   ],
   "source": [
    "comparison=\\\n",
    "f\"\"\"\n",
    "dummy_basis_funcs[0](dummy_x_unlabeled[:,0]) = {dummy_basis_funcs[0](dummy_x_unlabeled[:,0])}\n",
    "dummy_basis_funcs[1](dummy_x_unlabeled[:,1]) = {dummy_basis_funcs[1](dummy_x_unlabeled[:,1])}\n",
    "dummy_basis_funcs[2](dummy_x_unlabeled[:,2]) = {dummy_basis_funcs[2](dummy_x_unlabeled[:,2])}\n",
    "\"\"\"\n",
    "print(comparison)"
   ]
  },
  {
   "cell_type": "markdown",
   "metadata": {},
   "source": [
    "##  compututing probabilities from b_lambda"
   ]
  },
  {
   "cell_type": "code",
   "execution_count": 7,
   "metadata": {},
   "outputs": [
    {
     "name": "stdout",
     "output_type": "stream",
     "text": [
      "probs=[0.22916667 0.4375     0.33333333]\n",
      "sum to 1?: (1.0, True)\n"
     ]
    }
   ],
   "source": [
    "# compututing probabilities from b_lambda\n",
    "\n",
    "dummy_b_lambda_set = np.array([11,21,16])\n",
    "\n",
    "probs = dummy_b_lambda_set/np.sum(dummy_b_lambda_set)\n",
    "\n",
    "print(f\"probs={probs}\\nsum to 1?: {(np.sum(probs),np.sum(probs)==1)}\")"
   ]
  },
  {
   "cell_type": "code",
   "execution_count": 8,
   "metadata": {},
   "outputs": [
    {
     "name": "stdout",
     "output_type": "stream",
     "text": [
      "Gives: ValueError: probabilities are not non-negative\n"
     ]
    }
   ],
   "source": [
    "try:\n",
    "    np.random.choice(a=[1,2,3,4,5],size=2,replace=False,p=[-1,1,-1,1,1])\n",
    "except:\n",
    "    print(\"Gives: ValueError: probabilities are not non-negative\")\n",
    "# Great! this helps confirm that my b_set is a valid set of numbers using the fully matrix method"
   ]
  },
  {
   "cell_type": "markdown",
   "metadata": {},
   "source": [
    "# P-ALICE implementation (imported code from pool_alice_code.py)"
   ]
  },
  {
   "cell_type": "markdown",
   "metadata": {},
   "source": [
    "## Load data"
   ]
  },
  {
   "cell_type": "code",
   "execution_count": 9,
   "metadata": {},
   "outputs": [
    {
     "data": {
      "text/plain": [
       "'/home/ethan/02750-automation/automation_final_project/P-ALICE'"
      ]
     },
     "execution_count": 9,
     "metadata": {},
     "output_type": "execute_result"
    }
   ],
   "source": [
    "import os\n",
    "os.getcwd()"
   ]
  },
  {
   "cell_type": "code",
   "execution_count": 10,
   "metadata": {},
   "outputs": [],
   "source": [
    "X_unlabeled = np.load('../data/abalone_age/X.npy')\n",
    "y_unlabeled = np.load('../data/abalone_age/y.npy')"
   ]
  },
  {
   "cell_type": "markdown",
   "metadata": {},
   "source": [
    "## make some basis functions"
   ]
  },
  {
   "cell_type": "code",
   "execution_count": 11,
   "metadata": {},
   "outputs": [
    {
     "data": {
      "text/plain": [
       "[<function pool_alice_code.identity_basis(x: numpy.ndarray)>,\n",
       " <function pool_alice_code.identity_basis(x: numpy.ndarray)>,\n",
       " <function pool_alice_code.identity_basis(x: numpy.ndarray)>,\n",
       " <function pool_alice_code.identity_basis(x: numpy.ndarray)>,\n",
       " <function pool_alice_code.identity_basis(x: numpy.ndarray)>,\n",
       " <function pool_alice_code.identity_basis(x: numpy.ndarray)>,\n",
       " <function pool_alice_code.identity_basis(x: numpy.ndarray)>,\n",
       " <function pool_alice_code.identity_basis(x: numpy.ndarray)>]"
      ]
     },
     "execution_count": 11,
     "metadata": {},
     "output_type": "execute_result"
    }
   ],
   "source": [
    "num_features = len(X_unlabeled[0])\n",
    "basis_funcs_v1: List[np.ufunc] = [pool_alice_code.identity_basis for _ in range(num_features)] # type: ignore\n",
    "basis_funcs_v1"
   ]
  },
  {
   "cell_type": "code",
   "execution_count": 12,
   "metadata": {},
   "outputs": [
    {
     "name": "stdout",
     "output_type": "stream",
     "text": [
      "λ_val=0.0\n",
      "λ_val=0.1\n",
      "λ_val=0.2\n",
      "λ_val=0.30000000000000004\n",
      "λ_val=0.4\n",
      "λ_val=0.5\n",
      "λ_val=0.6000000000000001\n",
      "λ_val=0.7000000000000001\n",
      "λ_val=0.8\n",
      "λ_val=0.9\n",
      "λ_val=1.0\n",
      "λ_val=0.4\n",
      "λ_val=0.41000000000000003\n",
      "λ_val=0.42000000000000004\n",
      "λ_val=0.43000000000000005\n",
      "λ_val=0.44000000000000006\n",
      "λ_val=0.45000000000000007\n",
      "λ_val=0.4600000000000001\n",
      "λ_val=0.4700000000000001\n",
      "λ_val=0.4800000000000001\n",
      "λ_val=0.4900000000000001\n",
      "λ_val=0.5000000000000001\n",
      "λ_val=0.5100000000000001\n",
      "λ_val=0.5200000000000001\n",
      "λ_val=0.5300000000000001\n",
      "λ_val=0.5400000000000001\n",
      "λ_val=0.5500000000000002\n",
      "λ_val=0.5600000000000002\n",
      "λ_val=0.5700000000000002\n",
      "λ_val=0.5800000000000002\n",
      "λ_val=0.5900000000000002\n",
      "λ_val=0.6000000000000002\n",
      "max_λ_val=1.0\n"
     ]
    }
   ],
   "source": [
    "# perform simple orinary least squares\n",
    "# def pool_alice(X_unlabeled: np.ndarray, oracle: np.ndarray, basis_funcs: List[np.ufunc], n_tr: int, prng_seed:int)->np.ndarray:\n",
    "prng_seed_v1 = 1001\n",
    "n_tr=int(len(X_unlabeled) * 0.30)\n",
    "weights_v1 = pool_alice_code.pool_alice(X_unlabeled=X_unlabeled, oracle=y_unlabeled,basis_funcs=basis_funcs_v1,n_tr=n_tr,prng_seed=prng_seed_v1)"
   ]
  },
  {
   "cell_type": "code",
   "execution_count": 13,
   "metadata": {},
   "outputs": [
    {
     "data": {
      "text/plain": [
       "array([ -0.17899819,   3.60659815,  10.02759623,  40.03522819,\n",
       "        10.40095623, -21.92212008, -16.62536434,   3.26951855])"
      ]
     },
     "execution_count": 13,
     "metadata": {},
     "output_type": "execute_result"
    }
   ],
   "source": [
    "weights_v1"
   ]
  },
  {
   "cell_type": "code",
   "execution_count": 14,
   "metadata": {},
   "outputs": [
    {
     "data": {
      "text/plain": [
       "(8,)"
      ]
     },
     "execution_count": 14,
     "metadata": {},
     "output_type": "execute_result"
    }
   ],
   "source": [
    "weights_v1.shape"
   ]
  },
  {
   "cell_type": "code",
   "execution_count": 16,
   "metadata": {},
   "outputs": [],
   "source": [
    "y_pred = X_unlabeled @ weights_v1"
   ]
  },
  {
   "cell_type": "code",
   "execution_count": 17,
   "metadata": {},
   "outputs": [
    {
     "data": {
      "text/plain": [
       "array([ 8.34026299,  7.1094937 , 11.10137846, ..., 12.07295876,\n",
       "        9.31555228, 10.83073077])"
      ]
     },
     "execution_count": 17,
     "metadata": {},
     "output_type": "execute_result"
    }
   ],
   "source": [
    "y_pred"
   ]
  },
  {
   "cell_type": "code",
   "execution_count": 18,
   "metadata": {},
   "outputs": [
    {
     "data": {
      "text/plain": [
       "(4177,)"
      ]
     },
     "execution_count": 18,
     "metadata": {},
     "output_type": "execute_result"
    }
   ],
   "source": [
    "y_pred.shape"
   ]
  },
  {
   "cell_type": "code",
   "execution_count": 19,
   "metadata": {},
   "outputs": [
    {
     "data": {
      "text/plain": [
       "(4177, 8)"
      ]
     },
     "execution_count": 19,
     "metadata": {},
     "output_type": "execute_result"
    }
   ],
   "source": [
    "X_unlabeled.shape"
   ]
  },
  {
   "cell_type": "code",
   "execution_count": null,
   "metadata": {},
   "outputs": [],
   "source": []
  }
 ],
 "metadata": {
  "kernelspec": {
   "display_name": "automation-project-2024",
   "language": "python",
   "name": "python3"
  },
  "language_info": {
   "codemirror_mode": {
    "name": "ipython",
    "version": 3
   },
   "file_extension": ".py",
   "mimetype": "text/x-python",
   "name": "python",
   "nbconvert_exporter": "python",
   "pygments_lexer": "ipython3",
   "version": "3.12.2"
  }
 },
 "nbformat": 4,
 "nbformat_minor": 2
}
