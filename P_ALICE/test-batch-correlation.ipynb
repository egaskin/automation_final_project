{
 "cells": [
  {
   "cell_type": "code",
   "execution_count": 39,
   "metadata": {},
   "outputs": [],
   "source": [
    "import os, copy, sys\n",
    "import numpy as np\n",
    "import pandas as pd\n",
    "from typing import List, Tuple\n",
    "import matplotlib.pyplot as plt\n",
    "from scipy import stats"
   ]
  },
  {
   "cell_type": "code",
   "execution_count": 40,
   "metadata": {},
   "outputs": [],
   "source": [
    "# Run this cell to remove pool_alice_code from package namespace, and reimport it with most recent changes\n",
    "sys.modules.pop(\"pool_alice_code\",None)\n",
    "import pool_alice_code"
   ]
  },
  {
   "cell_type": "markdown",
   "metadata": {},
   "source": [
    "## Load data"
   ]
  },
  {
   "cell_type": "code",
   "execution_count": 41,
   "metadata": {},
   "outputs": [
    {
     "data": {
      "text/plain": [
       "'/home/ethan/02750-automation/automation_final_project/P_ALICE'"
      ]
     },
     "execution_count": 41,
     "metadata": {},
     "output_type": "execute_result"
    }
   ],
   "source": [
    "os.getcwd()"
   ]
  },
  {
   "cell_type": "code",
   "execution_count": 42,
   "metadata": {},
   "outputs": [],
   "source": [
    "X: np.ndarray = np.load('../data/abalone_age/X.npy')\n",
    "y: np.ndarray  = np.load('../data/abalone_age/y.npy')\n",
    "columns='Sex,Length,Diameter,Height,Whole_weight,Shucked_weight,Viscera_weight,Shell_weight'.split(',')\n",
    "X_df = pd.DataFrame(X,columns=columns)\n",
    "num_original_features = len(X[0])"
   ]
  },
  {
   "cell_type": "code",
   "execution_count": 43,
   "metadata": {},
   "outputs": [
    {
     "data": {
      "text/plain": [
       "(4177, 8)"
      ]
     },
     "execution_count": 43,
     "metadata": {},
     "output_type": "execute_result"
    }
   ],
   "source": [
    "X_df.shape"
   ]
  },
  {
   "cell_type": "markdown",
   "metadata": {},
   "source": [
    "# constants"
   ]
  },
  {
   "cell_type": "code",
   "execution_count": 44,
   "metadata": {},
   "outputs": [],
   "source": [
    "BATCH_SIZE = 3\n",
    "np.random.seed(1234)"
   ]
  },
  {
   "cell_type": "markdown",
   "metadata": {},
   "source": [
    "# P-ALICE, weighted linear regression"
   ]
  },
  {
   "cell_type": "code",
   "execution_count": 45,
   "metadata": {},
   "outputs": [
    {
     "data": {
      "text/plain": [
       "array([[0.    , 0.455 , 0.365 , ..., 0.101 , 0.15  , 1.    ],\n",
       "       [0.    , 0.35  , 0.265 , ..., 0.0485, 0.07  , 1.    ],\n",
       "       [1.    , 0.53  , 0.42  , ..., 0.1415, 0.21  , 1.    ],\n",
       "       ...,\n",
       "       [0.    , 0.6   , 0.475 , ..., 0.2875, 0.308 , 1.    ],\n",
       "       [1.    , 0.625 , 0.485 , ..., 0.261 , 0.296 , 1.    ],\n",
       "       [0.    , 0.71  , 0.555 , ..., 0.3765, 0.495 , 1.    ]])"
      ]
     },
     "execution_count": 45,
     "metadata": {},
     "output_type": "execute_result"
    }
   ],
   "source": [
    "X_pool_linear = np.vstack((X.T,np.ones(len(X)))).T\n",
    "X_pool_linear"
   ]
  },
  {
   "cell_type": "code",
   "execution_count": 46,
   "metadata": {},
   "outputs": [
    {
     "data": {
      "text/plain": [
       "4176"
      ]
     },
     "execution_count": 46,
     "metadata": {},
     "output_type": "execute_result"
    }
   ],
   "source": [
    "idxs_samples = list(range(0,len(X_pool_linear)))\n",
    "idxs_samples[-1]"
   ]
  },
  {
   "cell_type": "code",
   "execution_count": 47,
   "metadata": {},
   "outputs": [
    {
     "data": {
      "text/plain": [
       "(3, 9)"
      ]
     },
     "execution_count": 47,
     "metadata": {},
     "output_type": "execute_result"
    }
   ],
   "source": [
    "idxs_random_batch = np.random.choice(idxs_samples,size=BATCH_SIZE,replace=False)\n",
    "random_batch = X_pool_linear[idxs_random_batch]\n",
    "random_batch.shape"
   ]
  },
  {
   "cell_type": "code",
   "execution_count": 48,
   "metadata": {},
   "outputs": [],
   "source": [
    "def get_batch_correlation_v1(batch: np.ndarray)->np.float_:\n",
    "\n",
    "    results = np.array(stats.spearmanr(a=batch,axis=1))\n",
    "    spearmean_coefs = results[0,:,:]\n",
    "    n,_ = batch.shape\n",
    "\n",
    "    assert spearmean_coefs.shape == (n,n), 'NOT computing sample correlations!'\n",
    "\n",
    "    # make the diagonal np.nan so it will not contribute to the mean\n",
    "    np.fill_diagonal(spearmean_coefs, np.nan, wrap=False)\n",
    "\n",
    "    return np.nanmean(spearmean_coefs)\n",
    "\n",
    "def get_batch_correlation_v2(batch: np.ndarray)->np.float_:\n",
    "\n",
    "    results = np.array(stats.spearmanr(a=batch,axis=1))\n",
    "    spearmean_coefs = results[0,:,:]\n",
    "    n,_ = batch.shape\n",
    "\n",
    "    assert spearmean_coefs.shape == (n,n), 'NOT computing sample correlations!'\n",
    "\n",
    "    \n",
    "    iu1 = np.triu_indices(n=n,k=1)\n",
    "    print(f\"spearmean_coefs=\\n{spearmean_coefs}\")\n",
    "    print(f\"spearmean_coefs[iu1]=\\n{spearmean_coefs[iu1]}\")\n",
    "\n",
    "    return np.nanmean(spearmean_coefs[iu1])\n",
    "\n",
    "def get_batch_correlation_v3(batch: np.ndarray)->np.float_:\n",
    "\n",
    "    pearson_coefs = np.corrcoef(batch)\n",
    "    n,_ = batch.shape\n",
    "\n",
    "    iu1 = np.triu_indices(n=n,k=1)\n",
    "    assert pearson_coefs.shape == (n,n), 'NOT computing sample correlations!'\n",
    "    print(f\"pearson_coefs=\\n{pearson_coefs}\")\n",
    "    print(f\"pearson_coefs[iu1]=\\n{pearson_coefs[iu1]}\")\n",
    "\n",
    "    return np.mean(pearson_coefs[iu1])"
   ]
  },
  {
   "cell_type": "code",
   "execution_count": 49,
   "metadata": {},
   "outputs": [
    {
     "name": "stdout",
     "output_type": "stream",
     "text": [
      "get_batch_correlation_v1(random_batch)=0.5222222222222223\n",
      "\n",
      "spearmean_coefs=\n",
      "[[1.         0.9        0.38333333]\n",
      " [0.9        1.         0.28333333]\n",
      " [0.38333333 0.28333333 1.        ]]\n",
      "spearmean_coefs[iu1]=\n",
      "[0.9        0.38333333 0.28333333]\n",
      "get_batch_correlation_v2(random_batch)=0.5222222222222223\n",
      "\n",
      "pearson_coefs=\n",
      "[[ 1.          0.925346    0.1636757 ]\n",
      " [ 0.925346    1.         -0.01536752]\n",
      " [ 0.1636757  -0.01536752  1.        ]]\n",
      "pearson_coefs[iu1]=\n",
      "[ 0.925346    0.1636757  -0.01536752]\n",
      "get_batch_correlation_v3(random_batch)=0.357884724448785\n"
     ]
    }
   ],
   "source": [
    "print(f\"get_batch_correlation_v1(random_batch)={get_batch_correlation_v1(random_batch)}\\n\")\n",
    "print(f\"get_batch_correlation_v2(random_batch)={get_batch_correlation_v2(random_batch)}\\n\")\n",
    "print(f\"get_batch_correlation_v3(random_batch)={get_batch_correlation_v3(random_batch)}\")"
   ]
  },
  {
   "cell_type": "code",
   "execution_count": 50,
   "metadata": {},
   "outputs": [
    {
     "data": {
      "text/plain": [
       "(5, 63)"
      ]
     },
     "execution_count": 50,
     "metadata": {},
     "output_type": "execute_result"
    }
   ],
   "source": [
    "dummy = np.load(\"../results/abalone_age_linear_palice_16.npy\")\n",
    "dummy.shape"
   ]
  },
  {
   "cell_type": "code",
   "execution_count": 51,
   "metadata": {},
   "outputs": [
    {
     "name": "stdout",
     "output_type": "stream",
     "text": [
      "random_batch.shape=(8, 9)\n",
      "get_batch_correlation_v1(random_batch)=0.7940611861727136\n",
      "\n",
      "spearmean_coefs=\n",
      "[[1.         1.         0.55230609 0.91214188 0.74477639 0.98319328\n",
      "  0.93277311 0.92887842]\n",
      " [1.         1.         0.55230609 0.91214188 0.74477639 0.98319328\n",
      "  0.93277311 0.92887842]\n",
      " [0.55230609 0.55230609 1.         0.38333333 0.3        0.51883299\n",
      "  0.46862335 0.4       ]\n",
      " [0.91214188 0.91214188 0.38333333 1.         0.93333333 0.87866878\n",
      "  0.97908807 0.98333333]\n",
      " [0.74477639 0.74477639 0.3        0.93333333 1.         0.69456675\n",
      "  0.89540533 0.9       ]\n",
      " [0.98319328 0.98319328 0.51883299 0.87866878 0.69456675 1.\n",
      "  0.89915966 0.89540533]\n",
      " [0.93277311 0.93277311 0.46862335 0.97908807 0.89540533 0.89915966\n",
      "  1.         0.99582462]\n",
      " [0.92887842 0.92887842 0.4        0.98333333 0.9        0.89540533\n",
      "  0.99582462 1.        ]]\n",
      "spearmean_coefs[iu1]=\n",
      "[1.         0.55230609 0.91214188 0.74477639 0.98319328 0.93277311\n",
      " 0.92887842 0.55230609 0.91214188 0.74477639 0.98319328 0.93277311\n",
      " 0.92887842 0.38333333 0.3        0.51883299 0.46862335 0.4\n",
      " 0.93333333 0.87866878 0.97908807 0.98333333 0.69456675 0.89540533\n",
      " 0.9        0.89915966 0.89540533 0.99582462]\n",
      "get_batch_correlation_v2(random_batch)=0.7940611861727136\n",
      "\n",
      "pearson_coefs=\n",
      "[[ 1.          0.99533928  0.64829958  0.57349163  0.46081089  0.98264035\n",
      "   0.71594336  0.59113594]\n",
      " [ 0.99533928  1.          0.65785323  0.51083247  0.39058786  0.969708\n",
      "   0.65240592  0.52960548]\n",
      " [ 0.64829958  0.65785323  1.         -0.05159511 -0.12605674  0.6337931\n",
      "   0.36492832 -0.03797534]\n",
      " [ 0.57349163  0.51083247 -0.05159511  1.          0.98883255  0.64147536\n",
      "   0.89406799  0.99927129]\n",
      " [ 0.46081089  0.39058786 -0.12605674  0.98883255  1.          0.53597944\n",
      "   0.87477647  0.98512303]\n",
      " [ 0.98264035  0.969708    0.6337931   0.64147536  0.53597944  1.\n",
      "   0.78315745  0.654598  ]\n",
      " [ 0.71594336  0.65240592  0.36492832  0.89406799  0.87477647  0.78315745\n",
      "   1.          0.89731099]\n",
      " [ 0.59113594  0.52960548 -0.03797534  0.99927129  0.98512303  0.654598\n",
      "   0.89731099  1.        ]]\n",
      "pearson_coefs[iu1]=\n",
      "[ 0.99533928  0.64829958  0.57349163  0.46081089  0.98264035  0.71594336\n",
      "  0.59113594  0.65785323  0.51083247  0.39058786  0.969708    0.65240592\n",
      "  0.52960548 -0.05159511 -0.12605674  0.6337931   0.36492832 -0.03797534\n",
      "  0.98883255  0.64147536  0.89406799  0.99927129  0.53597944  0.87477647\n",
      "  0.98512303  0.78315745  0.654598    0.89731099]\n",
      "get_batch_correlation_v3(random_batch)=0.6327264571003962\n"
     ]
    }
   ],
   "source": [
    "BATCH_SIZE = 8\n",
    "idxs_random_batch = np.random.choice(idxs_samples,size=BATCH_SIZE,replace=False)\n",
    "random_batch = X_pool_linear[idxs_random_batch]\n",
    "print(f\"random_batch.shape={random_batch.shape}\")\n",
    "print(f\"get_batch_correlation_v1(random_batch)={get_batch_correlation_v1(random_batch)}\\n\")\n",
    "print(f\"get_batch_correlation_v2(random_batch)={get_batch_correlation_v2(random_batch)}\\n\")\n",
    "print(f\"get_batch_correlation_v3(random_batch)={get_batch_correlation_v3(random_batch)}\")"
   ]
  }
 ],
 "metadata": {
  "kernelspec": {
   "display_name": "Python 3",
   "language": "python",
   "name": "python3"
  },
  "language_info": {
   "codemirror_mode": {
    "name": "ipython",
    "version": 3
   },
   "file_extension": ".py",
   "mimetype": "text/x-python",
   "name": "python",
   "nbconvert_exporter": "python",
   "pygments_lexer": "ipython3",
   "version": "3.12.2"
  }
 },
 "nbformat": 4,
 "nbformat_minor": 2
}
